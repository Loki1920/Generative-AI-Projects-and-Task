{
  "nbformat": 4,
  "nbformat_minor": 0,
  "metadata": {
    "colab": {
      "provenance": []
    },
    "kernelspec": {
      "name": "python3",
      "display_name": "Python 3"
    },
    "language_info": {
      "name": "python"
    }
  },
  "cells": [
    {
      "cell_type": "code",
      "source": [
        "'''!pip install h5py\n",
        "!pip install typing-extensions\n",
        "!pip install wheel '''"
      ],
      "metadata": {
        "colab": {
          "base_uri": "https://localhost:8080/",
          "height": 35
        },
        "id": "aLE92m5mTG-G",
        "outputId": "aca6bf84-91e5-4b2f-fc38-1c42b23ea381"
      },
      "execution_count": null,
      "outputs": [
        {
          "output_type": "execute_result",
          "data": {
            "text/plain": [
              "'!pip install h5py\\n!pip install typing-extensions\\n!pip install wheel '"
            ],
            "application/vnd.google.colaboratory.intrinsic+json": {
              "type": "string"
            }
          },
          "metadata": {},
          "execution_count": 24
        }
      ]
    },
    {
      "cell_type": "code",
      "source": [
        "'''\n",
        "import os\n",
        "os.environ[\"OPENAI_API_KEY\"] = \"api_key\"\n",
        "'''"
      ],
      "metadata": {
        "id": "ai0GEmEZc3Yf",
        "colab": {
          "base_uri": "https://localhost:8080/",
          "height": 35
        },
        "outputId": "3b1b8471-85ce-4217-9f86-5625f58ee716"
      },
      "execution_count": 1,
      "outputs": [
        {
          "output_type": "execute_result",
          "data": {
            "text/plain": [
              "'\\nimport os\\nos.environ[\"OPENAI_API_KEY\"] = \"api_key\"\\n'"
            ],
            "application/vnd.google.colaboratory.intrinsic+json": {
              "type": "string"
            }
          },
          "metadata": {},
          "execution_count": 1
        }
      ]
    },
    {
      "cell_type": "code",
      "source": [
        "'''from transformers import GPT2LMHeadModel, GPT2Tokenizer\n",
        "\n",
        "# Load the GPT-2 model and tokenizer\n",
        "model_name = 'gpt2'\n",
        "model = GPT2LMHeadModel.from_pretrained(model_name)\n",
        "tokenizer = GPT2Tokenizer.from_pretrained(model_name)\n",
        "\n",
        "# Define the user input and tokenize it\n",
        "user_input = \"Create a marketing post for Dental clinic.\"\n",
        "input_ids = tokenizer.encode(user_input, return_tensors='pt')\n",
        "\n",
        "# Generate text using the model\n",
        "output = model.generate(input_ids, max_length=100, num_return_sequences=1, early_stopping=True)\n",
        "generated_post = tokenizer.decode(output[0], skip_special_tokens=True)\n",
        "\n",
        "print(\"Generated Instagram Post:\")\n",
        "print(generated_post)\n",
        "'''"
      ],
      "metadata": {
        "colab": {
          "base_uri": "https://localhost:8080/",
          "height": 105
        },
        "id": "BGeZROhU2jvo",
        "outputId": "34c6e972-fdbc-469d-f689-29677896229e"
      },
      "execution_count": null,
      "outputs": [
        {
          "output_type": "execute_result",
          "data": {
            "text/plain": [
              "'from transformers import GPT2LMHeadModel, GPT2Tokenizer\\n\\n# Load the GPT-2 model and tokenizer\\nmodel_name = \\'gpt2\\'\\nmodel = GPT2LMHeadModel.from_pretrained(model_name)\\ntokenizer = GPT2Tokenizer.from_pretrained(model_name)\\n\\n# Define the user input and tokenize it\\nuser_input = \"Create a marketing post for Dental clinic.\"\\ninput_ids = tokenizer.encode(user_input, return_tensors=\\'pt\\')\\n\\n# Generate text using the model\\noutput = model.generate(input_ids, max_length=100, num_return_sequences=1, early_stopping=True)\\ngenerated_post = tokenizer.decode(output[0], skip_special_tokens=True)\\n\\nprint(\"Generated Instagram Post:\")\\nprint(generated_post)\\n'"
            ],
            "application/vnd.google.colaboratory.intrinsic+json": {
              "type": "string"
            }
          },
          "metadata": {},
          "execution_count": 26
        }
      ]
    },
    {
      "cell_type": "code",
      "source": [
        "!pip install -qU \\\n",
        "    langchain==0.0.345 \\\n",
        "    anthropic==0.7.7 \\\n",
        "    cohere==4.37 \\\n",
        "    docarray==0.39.1"
      ],
      "metadata": {
        "id": "3cSkNjQhIHlu"
      },
      "execution_count": null,
      "outputs": []
    },
    {
      "cell_type": "code",
      "source": [
        "from langchain.chat_models import ChatAnthropic\n",
        "from langchain.prompts import ChatPromptTemplate\n",
        "from langchain.schema.output_parser import StrOutputParser\n",
        "\n",
        "ANTHROPIC_API_KEY = \"\"\n",
        "\n",
        "prompt = ChatPromptTemplate.from_template(\n",
        "    \"Create a marketing post for {topic}\"\n",
        "\n",
        ")\n",
        "model = ChatAnthropic(\n",
        "    model=\"claude-2.1\",\n",
        "    max_tokens_to_sample=512,\n",
        "    anthropic_api_key=ANTHROPIC_API_KEY\n",
        ")  # swap Anthropic for OpenAI with `ChatOpenAI` and `openai_api_key`\n",
        "output_parser = StrOutputParser()"
      ],
      "metadata": {
        "id": "DLAyDdlmMP8E"
      },
      "execution_count": null,
      "outputs": []
    },
    {
      "cell_type": "markdown",
      "source": [
        "##Using chain"
      ],
      "metadata": {
        "id": "rofJIs8EvQnF"
      }
    },
    {
      "cell_type": "code",
      "source": [
        "from langchain.chains import LLMChain\n",
        "\n",
        "chain = LLMChain(\n",
        "    prompt=prompt,\n",
        "    llm=model,\n",
        "    output_parser=output_parser\n",
        ")\n",
        "\n",
        "# and run\n",
        "out = chain.run(topic=\"Dental clinic\")\n",
        "print(out)"
      ],
      "metadata": {
        "colab": {
          "base_uri": "https://localhost:8080/"
        },
        "id": "r2cfPLI5u5HV",
        "outputId": "6e8aec7c-cad3-48c8-8161-baed4c32c8e5"
      },
      "execution_count": null,
      "outputs": [
        {
          "output_type": "stream",
          "name": "stdout",
          "text": [
            " Here is a draft marketing post for a dental clinic:\n",
            "\n",
            "Bright, Healthy Smiles Are Just Around the Corner!\n",
            "Do you dream of having a radiant, confident smile? We can help turn that dream into a reality at ABC Dental Clinic. We provide gentle, personalized dental care for the whole family, with a focus on preventative care to help you maintain a healthy smile for life.\n",
            "\n",
            "Our compassionate and experienced dentists take the time to understand your unique dental needs and goals. No procedure happens without your complete comfort and understanding.\n",
            "\n",
            "Services we provide include:\n",
            "\n",
            "- Professional teeth cleanings & exams\n",
            "- Fillings & crowns \n",
            "- Bridges & dentures\n",
            "- Teeth whitening  \n",
            "- Clear orthodontic aligners\n",
            "- Pediatric dental care\n",
            "- Digital x-rays for accurate diagnoses\n",
            "- Gentle extractions when necessary\n",
            "\n",
            "We accept most major insurance plans and offer flexible payment options as needed. Plus, new patients get a free teeth whitening kit (some limitations apply). \n",
            "\n",
            "Contact us today to schedule your appointment and take the first step towards the bright, confident smile you deserve! Discover why so many families choose to entrust their oral health to ABC Dental. We look forward to welcoming you!\n",
            "\n",
            "I tried to highlight the clinic's gentle, trustworthy and experienced approach, the range of general and cosmetic services offered, insurance/payment options, and a new patient offer. Please let me know if you would like me to modify or add anything!\n"
          ]
        }
      ]
    },
    {
      "cell_type": "markdown",
      "source": [
        "##Using pipe operator"
      ],
      "metadata": {
        "id": "EfCb4jbcvUbc"
      }
    },
    {
      "cell_type": "code",
      "source": [
        "lcel_chain = prompt | model | output_parser\n",
        "\n",
        "# and run\n",
        "out = lcel_chain.invoke({\"topic\": \"Dental clinic\"})\n",
        "print(out)"
      ],
      "metadata": {
        "colab": {
          "base_uri": "https://localhost:8080/"
        },
        "id": "KIMStQTNyx2p",
        "outputId": "f219c233-63a5-4db1-fde3-3978941abc5e"
      },
      "execution_count": null,
      "outputs": [
        {
          "output_type": "stream",
          "name": "stdout",
          "text": [
            " Here is a draft marketing post for a dental clinic:\n",
            "\n",
            "Bright Smiles Dental Clinic - Your Caring Dentist in Town\n",
            "\n",
            "Do you wish you could smile more confidently? We believe everyone deserves a healthy, beautiful smile they can show off. At Bright Smiles Dental Clinic, your smile is our top priority!\n",
            "\n",
            "We are a full-service dental clinic providing professional dentistry with a gentle, caring touch for the whole family. Our services include:\n",
            "\n",
            "- General dental care - cleanings, fillings, crowns, bridges, dentures and more\n",
            "- Cosmetic dentistry - teeth whitening, dental implants, porcelain veneers and smile makeovers\n",
            "- Orthodontics - braces and Invisalign for children and adults  \n",
            "- Pediatric dentistry - dedicated to giving kids a comfortable dental experience\n",
            "\n",
            "Our state-of-the-art clinic is kid-friendly and outfitted with the latest dental technology and equipment. We offer flexible appointment times, easy payment plans and dental insurance is accepted. \n",
            "\n",
            "Our dentists, Dr. Johnson and Dr. Miller, have over 20 years combined experience. They are gifted at putting patients at ease and take the time to explain every dental procedure. Your comfort, health and satisfaction are their primary goals.\n",
            "\n",
            "Call 555-0192 now to schedule a new patient exam, cleaning and consultation - only $59. Find out why families all across town trust their smiles to Bright Smiles Dental! We can't wait to meet you.\n"
          ]
        }
      ]
    },
    {
      "cell_type": "code",
      "source": [
        "lcel_chain = prompt | model | output_parser\n",
        "\n",
        "# and run\n",
        "out = lcel_chain.invoke({\"topic\": \"Artificial Intelligence\"})\n",
        "print(out)"
      ],
      "metadata": {
        "colab": {
          "base_uri": "https://localhost:8080/"
        },
        "id": "ybZyDmDjvG07",
        "outputId": "aebb3336-f13b-4c1c-bd87-b495946b5801"
      },
      "execution_count": null,
      "outputs": [
        {
          "output_type": "stream",
          "name": "stdout",
          "text": [
            " Here is a draft marketing post for promoting artificial intelligence:\n",
            "\n",
            "The Future is Here: Embrace AI and Change Your Business\n",
            "\n",
            "Artificial Intelligence (AI) is transforming businesses and our world faster than ever. From predictive analytics to personalized recommendations and automated tasks, AI has endless applications to help companies operate smarter and provide better customer experiences. \n",
            "\n",
            "But many businesses are still unsure of how to implement AI and take advantage of everything this advanced technology offers. That ends now! \n",
            "\n",
            "Our team of AI experts is here to help you identify AI opportunities tailored to your unique business needs. We make AI accessible and understandable so you can see real business results: increased efficiency, cost savings, higher sales, and improved customer satisfaction.\n",
            "\n",
            "With customized AI solutions, you can:\n",
            "\n",
            "- Automate repetitive tasks so your employees can focus on more meaningful work\n",
            "- Gain predictive insights from big data to make informed business decisions  \n",
            "- Provide hyper-personalized recommendations to each customer\n",
            "- Chatbots that engage customers 24/7 while integrating with your backend systems\n",
            "- And more! AI’s capabilities are truly endless.\n",
            "\n",
            "We understand AI can seem complex and overwhelming. But it doesn’t have to be with the right guidance. Our skilled team works closely with your stakeholders so you feel supported every step of the way. We take care of everything – from solution design and implementation to employee training and support. \n",
            "\n",
            "Now is the time to harness the power of AI and take your business to the next level. Let’s have a conversation about what AI can do for you. The future starts today!\n"
          ]
        }
      ]
    }
  ]
}