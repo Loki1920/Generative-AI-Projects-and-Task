{
  "nbformat": 4,
  "nbformat_minor": 0,
  "metadata": {
    "colab": {
      "provenance": []
    },
    "kernelspec": {
      "name": "python3",
      "display_name": "Python 3"
    },
    "language_info": {
      "name": "python"
    }
  },
  "cells": [
    {
      "cell_type": "code",
      "execution_count": null,
      "metadata": {
        "colab": {
          "base_uri": "https://localhost:8080/"
        },
        "id": "VFnJaOxKvqsB",
        "outputId": "1d35d135-d3a9-4272-9043-38c30e2f8ad2"
      },
      "outputs": [
        {
          "output_type": "stream",
          "name": "stdout",
          "text": [
            "Collecting pdfplumber\n",
            "  Downloading pdfplumber-0.11.4-py3-none-any.whl.metadata (41 kB)\n",
            "\u001b[?25l     \u001b[90m━━━━━━━━━━━━━━━━━━━━━━━━━━━━━━━━━━━━━━━━\u001b[0m \u001b[32m0.0/42.0 kB\u001b[0m \u001b[31m?\u001b[0m eta \u001b[36m-:--:--\u001b[0m\r\u001b[2K     \u001b[90m━━━━━━━━━━━━━━━━━━━━━━━━━━━━━━━━━━━━━━━━\u001b[0m \u001b[32m42.0/42.0 kB\u001b[0m \u001b[31m2.3 MB/s\u001b[0m eta \u001b[36m0:00:00\u001b[0m\n",
            "\u001b[?25hCollecting pdfminer.six==20231228 (from pdfplumber)\n",
            "  Downloading pdfminer.six-20231228-py3-none-any.whl.metadata (4.2 kB)\n",
            "Requirement already satisfied: Pillow>=9.1 in /usr/local/lib/python3.10/dist-packages (from pdfplumber) (9.4.0)\n",
            "Collecting pypdfium2>=4.18.0 (from pdfplumber)\n",
            "  Downloading pypdfium2-4.30.0-py3-none-manylinux_2_17_x86_64.manylinux2014_x86_64.whl.metadata (48 kB)\n",
            "\u001b[2K     \u001b[90m━━━━━━━━━━━━━━━━━━━━━━━━━━━━━━━━━━━━━━━━\u001b[0m \u001b[32m48.5/48.5 kB\u001b[0m \u001b[31m3.0 MB/s\u001b[0m eta \u001b[36m0:00:00\u001b[0m\n",
            "\u001b[?25hRequirement already satisfied: charset-normalizer>=2.0.0 in /usr/local/lib/python3.10/dist-packages (from pdfminer.six==20231228->pdfplumber) (3.3.2)\n",
            "Requirement already satisfied: cryptography>=36.0.0 in /usr/local/lib/python3.10/dist-packages (from pdfminer.six==20231228->pdfplumber) (43.0.0)\n",
            "Requirement already satisfied: cffi>=1.12 in /usr/local/lib/python3.10/dist-packages (from cryptography>=36.0.0->pdfminer.six==20231228->pdfplumber) (1.17.0)\n",
            "Requirement already satisfied: pycparser in /usr/local/lib/python3.10/dist-packages (from cffi>=1.12->cryptography>=36.0.0->pdfminer.six==20231228->pdfplumber) (2.22)\n",
            "Downloading pdfplumber-0.11.4-py3-none-any.whl (59 kB)\n",
            "\u001b[2K   \u001b[90m━━━━━━━━━━━━━━━━━━━━━━━━━━━━━━━━━━━━━━━━\u001b[0m \u001b[32m59.2/59.2 kB\u001b[0m \u001b[31m4.7 MB/s\u001b[0m eta \u001b[36m0:00:00\u001b[0m\n",
            "\u001b[?25hDownloading pdfminer.six-20231228-py3-none-any.whl (5.6 MB)\n",
            "\u001b[2K   \u001b[90m━━━━━━━━━━━━━━━━━━━━━━━━━━━━━━━━━━━━━━━━\u001b[0m \u001b[32m5.6/5.6 MB\u001b[0m \u001b[31m67.2 MB/s\u001b[0m eta \u001b[36m0:00:00\u001b[0m\n",
            "\u001b[?25hDownloading pypdfium2-4.30.0-py3-none-manylinux_2_17_x86_64.manylinux2014_x86_64.whl (2.8 MB)\n",
            "\u001b[2K   \u001b[90m━━━━━━━━━━━━━━━━━━━━━━━━━━━━━━━━━━━━━━━━\u001b[0m \u001b[32m2.8/2.8 MB\u001b[0m \u001b[31m74.3 MB/s\u001b[0m eta \u001b[36m0:00:00\u001b[0m\n",
            "\u001b[?25hInstalling collected packages: pypdfium2, pdfminer.six, pdfplumber\n",
            "Successfully installed pdfminer.six-20231228 pdfplumber-0.11.4 pypdfium2-4.30.0\n"
          ]
        }
      ],
      "source": [
        "!pip install pdfplumber"
      ]
    },
    {
      "cell_type": "markdown",
      "source": [
        "## Extract Tables"
      ],
      "metadata": {
        "id": "9aBgUVPZzBT9"
      }
    },
    {
      "cell_type": "code",
      "source": [
        "import pdfplumber\n",
        "\n",
        "with pdfplumber.open('/content/SIS-BR-LM-07-23 Location management Lifecycle change-220824-085959.pdf') as pdf:\n",
        "    # iterate over each page\n",
        "    for page in pdf.pages:\n",
        "        print(page.extract_tables())"
      ],
      "metadata": {
        "colab": {
          "base_uri": "https://localhost:8080/"
        },
        "id": "g2YVdHjDxYqm",
        "outputId": "f6ce00ca-187e-43dc-cba8-a1fb91fc25a3"
      },
      "execution_count": null,
      "outputs": [
        {
          "output_type": "stream",
          "name": "stdout",
          "text": [
            "[[['', '', ''], [None, 'BR-LM-07-23 Location management Lifecycle change', None], [None, 'Application Masterdata Portal\\nModule Location Management\\nPBI https://dev.azure.com/DufryGlobal/CorpApps_Dufry_Webfront/_workitems/edit/98649 Connect your Azure DevOps account\\nDocument Owner @eduard.moroianu (Unlicensed)\\nDocument Status\\nDRAFT\\nLIST OF CHANGES\\nVersion Change Reason Change Responsible Change Date\\nLIST OF CHANGES\\nObjective\\nFunctional Requirements\\nUser Interface\\nUser Roles/Permissions\\nAssumptions\\nPrerequisites\\nOpen Items\\nObjective\\nThe objective of the documentation is to present the change specification requested to enable the New locations statuses in the Location\\nManagement module.\\nThe new locations created shall have status “New“ when are created.\\nFunctional Requirements\\nThe current Location lifecycle statuses shall be enhanced by introducing the “NEW“ status for the new locations created.\\nThe lifecycle flow shall be modified as follows:', None]], [['Application', 'Masterdata Portal'], ['Module', 'Location Management'], ['PBI', 'https://dev.azure.com/DufryGlobal/CorpApps_Dufry_Webfront/_workitems/edit/98649 Connect your Azure DevOps account'], ['Document Owner', '@eduard.moroianu (Unlicensed)'], ['Document Status', 'DRAFT']], [['Version', 'Change Reason', 'Change Responsible', 'Change Date']]]\n",
            "[[['', 'When a NEW shop is created, after the changes are saved, the status of the shop shall be set to: “NEW“\\nIf the shop is send towards approval, then the status shall be set to “NEW- PENDING APPROVAL“', ''], [None, 'The “NEW-PENDING APPROVAL“ status shall be considered as an actionable status for Local Manager or Local Supervisor user\\nroles. In this case, the Local Contributor shall only view the Location details and not edit. The Edit shall be available after the\\nlocation is approved. It is considered that the Local Contributor finished the Location setup once is submitted for approval.', None], [None, 'Once the shop is approved, then the status is set to “SUBMITTED“\\nAfter the shop was in SUBMITTED status then, any modifications performed and saved shall set the status of the shop to “DRAFT“ - as per\\ncurrent functinality\\nIn case an edited shop with status “DRAFT“ is sent for approval, then the shop status shall be changed to : “CHANGE-PENDING\\nAPPROVAL“', None], [None, 'The “CHANGE-PENDING APPROVAL“ status shall be considered as an actionable status for Local Manager or Local Supervisor\\nuser roles. In this case, the Local Contributor shall only view the Location details and not edit. The Edit shall be available after the\\nlocation is approved. It is considered that the Local Contributor finished the Location setup once is submitted for approval.', None], [None, 'If the shop in status “CHANGE-PENDING APPROVAL“ is approved, then the shop status is set to “SUBMITTED“', None], [None, 'In case of the NEW shops, up until the SUBMITTED status, the option for “Return“ and “Reject” actions shall not be available', None], [None, '', None], [None, 'The PAX module and the Location size module shall present all the shops defined in the Location management, regardless of the\\nLocation status', None], [None, 'User Interface\\nThe user interface shall reflect the shop statuses changes as described above.', None], [None, 'In case of the NEW shops, up until the SUBMITTED status, the option for “Return“ and “Reject” actions shall not be available', None], [None, '', None], [None, '', None]]]\n",
            "[[['The PAX module and the Location size module shall present all the shops defined in the Location management, regardless of the\\nLocation status\\nUser Roles/Permissions\\nno change\\nAssumptions\\nnone\\nPrerequisites\\nnone\\nOpen Items'], ['']], [['The PAX module and the Location size module shall present all the shops defined in the Location management, regardless of the\\nLocation status'], ['User Roles/Permissions\\nno change\\nAssumptions\\nnone\\nPrerequisites\\nnone\\nOpen Items']]]\n"
          ]
        }
      ]
    },
    {
      "cell_type": "markdown",
      "source": [
        "##Extract Text"
      ],
      "metadata": {
        "id": "2a4a5VSWzIpw"
      }
    },
    {
      "cell_type": "code",
      "source": [
        "with pdfplumber.open('/content/SIS-BR-LM-07-23 Location management Lifecycle change-220824-085959.pdf') as pdf:\n",
        "    # iterate over each page\n",
        "    for page in pdf.pages:\n",
        "        # extract text\n",
        "        text = page.extract_text()\n",
        "        print(text)"
      ],
      "metadata": {
        "colab": {
          "base_uri": "https://localhost:8080/"
        },
        "id": "5YIUqY8YyEWg",
        "outputId": "2c2a32d2-0b2a-49ac-9fb4-9eca2f14b497"
      },
      "execution_count": null,
      "outputs": [
        {
          "output_type": "stream",
          "name": "stdout",
          "text": [
            "BR-LM-07-23 Location management Lifecycle change\n",
            "Application Masterdata Portal\n",
            "Module Location Management\n",
            "PBI https://dev.azure.com/DufryGlobal/CorpApps_Dufry_Webfront/_workitems/edit/98649 Connect your Azure DevOps account\n",
            "Document Owner @eduard.moroianu (Unlicensed)\n",
            "Document Status\n",
            "DRAFT\n",
            "LIST OF CHANGES\n",
            "Version Change Reason Change Responsible Change Date\n",
            "LIST OF CHANGES\n",
            "Objective\n",
            "Functional Requirements\n",
            "User Interface\n",
            "User Roles/Permissions\n",
            "Assumptions\n",
            "Prerequisites\n",
            "Open Items\n",
            "Objective\n",
            "The objective of the documentation is to present the change specification requested to enable the New locations statuses in the Location\n",
            "Management module.\n",
            "The new locations created shall have status “New“ when are created.\n",
            "Functional Requirements\n",
            "The current Location lifecycle statuses shall be enhanced by introducing the “NEW“ status for the new locations created.\n",
            "The lifecycle flow shall be modified as follows:\n",
            "When a NEW shop is created, after the changes are saved, the status of the shop shall be set to: “NEW“\n",
            "If the shop is send towards approval, then the status shall be set to “NEW- PENDING APPROVAL“\n",
            "The “NEW-PENDING APPROVAL“ status shall be considered as an actionable status for Local Manager or Local Supervisor user\n",
            "roles. In this case, the Local Contributor shall only view the Location details and not edit. The Edit shall be available after the\n",
            "location is approved. It is considered that the Local Contributor finished the Location setup once is submitted for approval.\n",
            "Once the shop is approved, then the status is set to “SUBMITTED“\n",
            "After the shop was in SUBMITTED status then, any modifications performed and saved shall set the status of the shop to “DRAFT“ - as per\n",
            "current functinality\n",
            "In case an edited shop with status “DRAFT“ is sent for approval, then the shop status shall be changed to : “CHANGE-PENDING\n",
            "APPROVAL“\n",
            "The “CHANGE-PENDING APPROVAL“ status shall be considered as an actionable status for Local Manager or Local Supervisor\n",
            "user roles. In this case, the Local Contributor shall only view the Location details and not edit. The Edit shall be available after the\n",
            "location is approved. It is considered that the Local Contributor finished the Location setup once is submitted for approval.\n",
            "If the shop in status “CHANGE-PENDING APPROVAL“ is approved, then the shop status is set to “SUBMITTED“\n",
            "In case of the NEW shops, up until the SUBMITTED status, the option for “Return“ and “Reject” actions shall not be available\n",
            "The PAX module and the Location size module shall present all the shops defined in the Location management, regardless of the\n",
            "Location status\n",
            "User Interface\n",
            "The user interface shall reflect the shop statuses changes as described above.\n",
            "In case of the NEW shops, up until the SUBMITTED status, the option for “Return“ and “Reject” actions shall not be available\n",
            "The PAX module and the Location size module shall present all the shops defined in the Location management, regardless of the\n",
            "Location status\n",
            "User Roles/Permissions\n",
            "no change\n",
            "Assumptions\n",
            "none\n",
            "Prerequisites\n",
            "none\n",
            "Open Items\n"
          ]
        }
      ]
    },
    {
      "cell_type": "markdown",
      "source": [
        "##Image"
      ],
      "metadata": {
        "id": "x-s5-iadciZn"
      }
    },
    {
      "cell_type": "code",
      "source": [
        "!pip install PyMuPDF Pillow"
      ],
      "metadata": {
        "colab": {
          "base_uri": "https://localhost:8080/"
        },
        "id": "UsPrQKyi8O7o",
        "outputId": "dd405e0f-1f9a-4b1f-ab87-2d7a29ca10be"
      },
      "execution_count": null,
      "outputs": [
        {
          "output_type": "stream",
          "name": "stdout",
          "text": [
            "Collecting PyMuPDF\n",
            "  Downloading PyMuPDF-1.24.9-cp310-none-manylinux2014_x86_64.whl.metadata (3.4 kB)\n",
            "Requirement already satisfied: Pillow in /usr/local/lib/python3.10/dist-packages (9.4.0)\n",
            "Collecting PyMuPDFb==1.24.9 (from PyMuPDF)\n",
            "  Downloading PyMuPDFb-1.24.9-py3-none-manylinux2014_x86_64.manylinux_2_17_x86_64.whl.metadata (1.4 kB)\n",
            "Downloading PyMuPDF-1.24.9-cp310-none-manylinux2014_x86_64.whl (3.5 MB)\n",
            "\u001b[2K   \u001b[90m━━━━━━━━━━━━━━━━━━━━━━━━━━━━━━━━━━━━━━━━\u001b[0m \u001b[32m3.5/3.5 MB\u001b[0m \u001b[31m26.5 MB/s\u001b[0m eta \u001b[36m0:00:00\u001b[0m\n",
            "\u001b[?25hDownloading PyMuPDFb-1.24.9-py3-none-manylinux2014_x86_64.manylinux_2_17_x86_64.whl (15.9 MB)\n",
            "\u001b[2K   \u001b[90m━━━━━━━━━━━━━━━━━━━━━━━━━━━━━━━━━━━━━━━━\u001b[0m \u001b[32m15.9/15.9 MB\u001b[0m \u001b[31m28.4 MB/s\u001b[0m eta \u001b[36m0:00:00\u001b[0m\n",
            "\u001b[?25hInstalling collected packages: PyMuPDFb, PyMuPDF\n",
            "Successfully installed PyMuPDF-1.24.9 PyMuPDFb-1.24.9\n"
          ]
        }
      ]
    },
    {
      "cell_type": "code",
      "source": [
        "import fitz\n",
        "import io\n",
        "from PIL import Image"
      ],
      "metadata": {
        "id": "XnXTkOC10oQI"
      },
      "execution_count": null,
      "outputs": []
    },
    {
      "cell_type": "code",
      "source": [
        "file = '/content/SIS-BR-LM-07-23 Location management Lifecycle change-220824-085959.pdf'\n",
        "pdf_file = fitz.open(file)"
      ],
      "metadata": {
        "id": "EhnmlO4z-uJo"
      },
      "execution_count": null,
      "outputs": []
    },
    {
      "cell_type": "code",
      "source": [
        "for page_number in range(len(pdf_file)):\n",
        "    page=pdf_file[page_number]\n",
        "    image_list = page.get_images()\n",
        "    print(image_list)\n",
        "\n",
        "    for image_index, img in enumerate(page.get_images(),start=1):\n",
        "        print(image_index)\n",
        "        xref = img[0]\n",
        "        # extract image bytes\n",
        "        base_image = pdf_file.extract_image(xref)\n",
        "        image_bytes = base_image[\"image\"]\n",
        "        # get image extension\n",
        "        image_ext = base_image[\"ext\"]\n",
        "\n",
        "# Create a PIL Image object from the image bytes\n",
        "        pil_image = Image.open(io.BytesIO(image_bytes))\n",
        "\n",
        "        # Save the image to disk\n",
        "        image_path = f\"image_{page_number}_{image_index}.{image_ext}\"\n",
        "        pil_image.save(image_path)"
      ],
      "metadata": {
        "colab": {
          "base_uri": "https://localhost:8080/"
        },
        "id": "XZirlLNL_F7d",
        "outputId": "d9eefd8e-95b3-48ac-f837-0c1d8ddc45d9"
      },
      "execution_count": null,
      "outputs": [
        {
          "output_type": "stream",
          "name": "stdout",
          "text": [
            "[(9, 10, 256, 256, 8, 'ICCBased', '', 'X9', 'FlateDecode')]\n",
            "1\n",
            "[(25, 26, 499, 462, 8, 'ICCBased', '', 'X25', 'FlateDecode')]\n",
            "1\n",
            "[]\n"
          ]
        }
      ]
    },
    {
      "cell_type": "code",
      "source": [
        "import base64\n",
        "import requests\n",
        "\n",
        "# OpenAI API Key\n",
        "api_key = \"\"\n",
        "\n",
        "\n",
        "# Function to encode the image\n",
        "def encode_image(image_path):\n",
        "  with open(image_path, \"rb\") as image_file:\n",
        "    return base64.b64encode(image_file.read()).decode('utf-8')\n",
        "\n",
        "# Path to your image\n",
        "#image_path = \"path_to_your_image.jpg\"\n",
        "\n",
        "# Getting the base64 string\n",
        "base64_image = encode_image(image_path)\n",
        "\n",
        "headers = {\n",
        "  \"Content-Type\": \"application/json\",\n",
        "  \"Authorization\": f\"Bearer {api_key}\"\n",
        "}\n",
        "\n",
        "payload = {\n",
        "  \"model\": \"gpt-4o-mini\",\n",
        "  \"messages\": [\n",
        "    {\n",
        "      \"role\": \"user\",\n",
        "      \"content\": [\n",
        "        {\n",
        "          \"type\": \"text\",\n",
        "          \"text\": \"What’s in this image?\"\n",
        "        },\n",
        "        {\n",
        "          \"type\": \"image_url\",\n",
        "          \"image_url\": {\n",
        "            \"url\": f\"data:image/jpeg;base64,{base64_image}\"\n",
        "          }\n",
        "        }\n",
        "      ]\n",
        "    }\n",
        "  ],\n",
        "  \"max_tokens\": 300\n",
        "}\n",
        "\n",
        "response = requests.post(\"https://api.openai.com/v1/chat/completions\", headers=headers, json=payload)\n",
        "\n",
        "print(response.json())"
      ],
      "metadata": {
        "colab": {
          "base_uri": "https://localhost:8080/"
        },
        "id": "ce07Y8kchGlL",
        "outputId": "0e60e8e0-b7b2-497e-e77f-151b6fde914e"
      },
      "execution_count": null,
      "outputs": [
        {
          "output_type": "stream",
          "name": "stdout",
          "text": [
            "{'id': 'chatcmpl-A0OjAiw5hUZcbpXQMpdosYBdg0kUj', 'object': 'chat.completion', 'created': 1724658416, 'model': 'gpt-4o-mini-2024-07-18', 'choices': [{'index': 0, 'message': {'role': 'assistant', 'content': 'The image appears to be a flowchart outlining a process for creating and managing a shop. Here’s a summary of the flow:\\n\\n1. **Create New Shop**: The process starts with creating a new shop, which is marked with a status of \"NEW.\"\\n\\n2. **Submit for Approval**: The new shop is then submitted for approval. It can transition to a status of \"PENDING APPROVAL.\"\\n\\n3. **Approval Outcomes**: \\n   - If changes are made, the status changes to \"CHANGE - PENDING APPROVAL.\"\\n   - After submission, the shop can either remain in \"DRAFT\" status or be edited further.\\n\\n4. **Edit Shop**: If needed, the shop can be edited, which implies an ongoing process where adjustments can be made post-approval submission.\\n\\nOverall, it visually represents a workflow involving shop creation, approval stages, and editing based on certain statuses.', 'refusal': None}, 'logprobs': None, 'finish_reason': 'stop'}], 'usage': {'prompt_tokens': 8513, 'completion_tokens': 183, 'total_tokens': 8696}, 'system_fingerprint': 'fp_507c9469a1'}\n"
          ]
        }
      ]
    }
  ]
}